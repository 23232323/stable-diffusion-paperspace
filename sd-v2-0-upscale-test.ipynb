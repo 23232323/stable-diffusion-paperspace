{
 "cells": [
  {
   "cell_type": "code",
   "execution_count": null,
   "id": "2a447d3d-e1d6-413c-89ac-d29bb74b0ab2",
   "metadata": {},
   "outputs": [],
   "source": [
    "# !pip install --force-reinstall git+https://github.com/huggingface/diffusers.git\n",
    "\n",
    "# load model and scheduler\n",
    "from diffusers import StableDiffusionUpscalePipeline, DPMSolverMultistepScheduler\n",
    "import torch\n",
    "pipeline = StableDiffusionUpscalePipeline.from_pretrained(\"stabilityai/stable-diffusion-x4-upscaler\", revision=\"fp16\", torch_dtype=torch.float16)\n",
    "pipeline.to(\"cuda\")"
   ]
  },
  {
   "cell_type": "code",
   "execution_count": null,
   "id": "b1282338-bee8-485d-8d05-0185d4d367c8",
   "metadata": {},
   "outputs": [],
   "source": [
    "source_img = '/notebooks/test.png'\n",
    "prompt = 'an image'"
   ]
  },
  {
   "cell_type": "code",
   "execution_count": null,
   "id": "a4e125e1-dad0-48b3-b535-117a47858ab7",
   "metadata": {},
   "outputs": [],
   "source": [
    "from PIL import Image\n",
    "\n",
    "low_res_img = Image.open(source_img).convert(\"RGB\")\n",
    "upscaled_image = pipeline(prompt=prompt, image=low_res_img).images[0]\n",
    "upscaled_image.save(\"upsampled.png\")"
   ]
  },
  {
   "cell_type": "code",
   "execution_count": null,
   "id": "3199cd6a-108a-422f-a4cc-f384f9f55bb1",
   "metadata": {},
   "outputs": [],
   "source": [
    "import requests\n",
    "from PIL import Image\n",
    "from io import BytesIO\n",
    "from diffusers import StableDiffusionUpscalePipeline\n",
    "import torch\n",
    "\n",
    "# load model and scheduler\n",
    "model_id = \"stabilityai/stable-diffusion-x4-upscaler\"\n",
    "pipeline = StableDiffusionUpscalePipeline.from_pretrained(model_id, revision=\"fp16\", torch_dtype=torch.float16)\n",
    "pipeline = pipeline.to(\"cuda\")\n",
    "\n",
    "# let's download an  image\n",
    "url = \"https://huggingface.co/datasets/hf-internal-testing/diffusers-images/resolve/main/sd2-upscale/low_res_cat.png\"\n",
    "response = requests.get(url)\n",
    "low_res_img = Image.open(BytesIO(response.content)).convert(\"RGB\")\n",
    "low_res_img = low_res_img.resize((128, 128))\n",
    "prompt = \"a white cat\"\n",
    "upscaled_image = pipeline(prompt=prompt, image=low_res_img).images[0]\n",
    "upscaled_image.save(\"upsampled_cat.png\")"
   ]
  },
  {
   "cell_type": "code",
   "execution_count": null,
   "id": "4cd5c9ea-367a-48ab-aed1-73854ca42848",
   "metadata": {},
   "outputs": [],
   "source": []
  }
 ],
 "metadata": {
  "kernelspec": {
   "display_name": "Python 3 (ipykernel)",
   "language": "python",
   "name": "python3"
  },
  "language_info": {
   "codemirror_mode": {
    "name": "ipython",
    "version": 3
   },
   "file_extension": ".py",
   "mimetype": "text/x-python",
   "name": "python",
   "nbconvert_exporter": "python",
   "pygments_lexer": "ipython3",
   "version": "3.9.13"
  }
 },
 "nbformat": 4,
 "nbformat_minor": 5
}
